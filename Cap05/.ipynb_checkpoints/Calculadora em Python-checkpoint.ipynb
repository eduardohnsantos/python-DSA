{
 "cells": [
  {
   "cell_type": "markdown",
   "id": "8f4fa435",
   "metadata": {},
   "source": [
    "*********************Calculadora em Python ********************************"
   ]
  },
  {
   "cell_type": "code",
   "execution_count": null,
   "id": "cb0887fe",
   "metadata": {},
   "outputs": [],
   "source": [
    "def add(x, y):\n",
    "    return x + y\n",
    "\n",
    "def subtract(x, y):\n",
    "    return x - y\n",
    "\n",
    "def multiply(x, y):\n",
    "    return x * y\n",
    "\n",
    "def divide(x, y):\n",
    "    if y == 0:\n",
    "        return \"Erro! Divisão por zero.\"\n",
    "    return x / y\n"
   ]
  },
  {
   "cell_type": "code",
   "execution_count": null,
   "id": "dd3a11a4",
   "metadata": {},
   "outputs": [
    {
     "name": "stdout",
     "output_type": "stream",
     "text": [
      "Selecione a operação:\n",
      "1. Adição\n",
      "2. Subtração\n",
      "3. Multiplicação\n",
      "4. Divisão\n"
     ]
    }
   ],
   "source": [
    "def calculator():\n",
    "    print(\"Selecione a operação:\")\n",
    "    print(\"1. Adição\")\n",
    "    print(\"2. Subtração\")\n",
    "    print(\"3. Multiplicação\")\n",
    "    print(\"4. Divisão\")\n",
    "\n",
    "    while True:\n",
    "        choice = input(\"Digite sua escolha (1/2/3/4): \")\n",
    "\n",
    "        if choice in ('1', '2', '3', '4'):\n",
    "            num1 = float(input(\"Digite o primeiro número: \"))\n",
    "            num2 = float(input(\"Digite o segundo número: \"))\n",
    "\n",
    "            if choice == '1':\n",
    "                print(f\"{num1} + {num2} = {add(num1, num2)}\")\n",
    "\n",
    "            elif choice == '2':\n",
    "                print(f\"{num1} - {num2} = {subtract(num1, num2)}\")\n",
    "\n",
    "            elif choice == '3':\n",
    "                print(f\"{num1} * {num2} = {multiply(num1, num2)}\")\n",
    "\n",
    "            elif choice == '4':\n",
    "                print(f\"{num1} / {num2} = {divide(num1, num2)}\")\n",
    "\n",
    "            next_calculation = input(\"Deseja fazer outro cálculo? (s/n): \")\n",
    "            if next_calculation.lower() != 's':\n",
    "                break\n",
    "        else:\n",
    "            print(\"Opção inválida\")\n",
    "\n",
    "calculator()\n"
   ]
  }
 ],
 "metadata": {
  "kernelspec": {
   "display_name": "Python 3 (ipykernel)",
   "language": "python",
   "name": "python3"
  },
  "language_info": {
   "codemirror_mode": {
    "name": "ipython",
    "version": 3
   },
   "file_extension": ".py",
   "mimetype": "text/x-python",
   "name": "python",
   "nbconvert_exporter": "python",
   "pygments_lexer": "ipython3",
   "version": "3.9.13"
  }
 },
 "nbformat": 4,
 "nbformat_minor": 5
}
