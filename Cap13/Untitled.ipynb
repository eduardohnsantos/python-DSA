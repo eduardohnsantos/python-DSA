{
 "cells": [
  {
   "cell_type": "code",
   "execution_count": 2,
   "id": "de124c32-77f2-4222-b389-b9d0eb0d32aa",
   "metadata": {},
   "outputs": [],
   "source": [
    "dict3 = {}"
   ]
  },
  {
   "cell_type": "code",
   "execution_count": 3,
   "id": "967ccdad-30be-4a94-8698-f8b97abea8d9",
   "metadata": {},
   "outputs": [
    {
     "data": {
      "text/plain": [
       "{}"
      ]
     },
     "execution_count": 3,
     "metadata": {},
     "output_type": "execute_result"
    }
   ],
   "source": [
    "dict3"
   ]
  },
  {
   "cell_type": "code",
   "execution_count": 4,
   "id": "ae3e0350-5012-4084-a359-48c58bd27125",
   "metadata": {},
   "outputs": [],
   "source": [
    "import pandas as pD"
   ]
  },
  {
   "cell_type": "code",
   "execution_count": 5,
   "id": "752c3d6d-4428-41bc-aa1a-6a10e3f46543",
   "metadata": {},
   "outputs": [
    {
     "ename": "NameError",
     "evalue": "name 'pandas' is not defined",
     "output_type": "error",
     "traceback": [
      "\u001b[1;31m---------------------------------------------------------------------------\u001b[0m",
      "\u001b[1;31mNameError\u001b[0m                                 Traceback (most recent call last)",
      "Cell \u001b[1;32mIn[5], line 1\u001b[0m\n\u001b[1;32m----> 1\u001b[0m \u001b[43mpandas\u001b[49m()\n",
      "\u001b[1;31mNameError\u001b[0m: name 'pandas' is not defined"
     ]
    }
   ],
   "source": [
    "pandas()"
   ]
  },
  {
   "cell_type": "code",
   "execution_count": 6,
   "id": "1c6e3c11-5d7d-48f6-966f-d590438a3869",
   "metadata": {},
   "outputs": [],
   "source": [
    "list1 = [1, 2, 3]"
   ]
  },
  {
   "cell_type": "code",
   "execution_count": 7,
   "id": "3b9e2f2b-3697-42a0-90c9-ea41a7b6f365",
   "metadata": {},
   "outputs": [],
   "source": [
    "list2 = [4, 5, 6]"
   ]
  },
  {
   "cell_type": "code",
   "execution_count": 9,
   "id": "4206d2b4-6dcf-40c6-b8ee-5acf2d5fa5b3",
   "metadata": {},
   "outputs": [],
   "source": [
    "conc = list1 + list2"
   ]
  },
  {
   "cell_type": "code",
   "execution_count": 10,
   "id": "cb66f5e8-a6d8-4af4-9630-528525bea1a7",
   "metadata": {},
   "outputs": [
    {
     "name": "stdout",
     "output_type": "stream",
     "text": [
      "[1, 2, 3, 4, 5, 6]\n"
     ]
    }
   ],
   "source": [
    "print(conc)"
   ]
  },
  {
   "cell_type": "code",
   "execution_count": 12,
   "id": "121dce45-d23d-4afd-a929-c4071573df6f",
   "metadata": {},
   "outputs": [],
   "source": [
    "s = 'Data Science Academy'"
   ]
  },
  {
   "cell_type": "code",
   "execution_count": 18,
   "id": "20ee6622-ae8f-4406-96e0-e2fa47522777",
   "metadata": {},
   "outputs": [
    {
     "data": {
      "text/plain": [
       "'Data'"
      ]
     },
     "execution_count": 18,
     "metadata": {},
     "output_type": "execute_result"
    }
   ],
   "source": [
    "s:[4]"
   ]
  },
  {
   "cell_type": "code",
   "execution_count": 19,
   "id": "d2b1277f-2932-49bf-b389-ec277d2795ed",
   "metadata": {},
   "outputs": [
    {
     "data": {
      "text/plain": [
       "'Data'"
      ]
     },
     "execution_count": 19,
     "metadata": {},
     "output_type": "execute_result"
    }
   ],
   "source": [
    "s[:4]  # Saída: 'Data'\n"
   ]
  },
  {
   "cell_type": "code",
   "execution_count": 20,
   "id": "a7665a0c-e28f-47c3-b759-291e13941a6b",
   "metadata": {},
   "outputs": [],
   "source": [
    "list5 =  [x for x in range(10)]"
   ]
  },
  {
   "cell_type": "code",
   "execution_count": 21,
   "id": "d1426d87-f402-474f-95a3-6f88315c9f0d",
   "metadata": {},
   "outputs": [
    {
     "name": "stdout",
     "output_type": "stream",
     "text": [
      "[0, 1, 2, 3, 4, 5, 6, 7, 8, 9]\n"
     ]
    }
   ],
   "source": [
    "print(list5)"
   ]
  },
  {
   "cell_type": "code",
   "execution_count": 22,
   "id": "d2f3798a-262d-44ba-89fb-45636c520442",
   "metadata": {},
   "outputs": [],
   "source": [
    "list6 = [x for x in range(10) if x < 5]"
   ]
  },
  {
   "cell_type": "code",
   "execution_count": 23,
   "id": "03f17653-1bd2-4f45-8942-1d519c1df694",
   "metadata": {},
   "outputs": [
    {
     "name": "stdout",
     "output_type": "stream",
     "text": [
      "[0, 1, 2, 3, 4]\n"
     ]
    }
   ],
   "source": [
    "print(list6)"
   ]
  },
  {
   "cell_type": "code",
   "execution_count": 24,
   "id": "0d81c1b7-260b-483b-a720-1f15231f9e91",
   "metadata": {},
   "outputs": [],
   "source": [
    "s2 = 'Data Science Academy'"
   ]
  },
  {
   "cell_type": "code",
   "execution_count": 25,
   "id": "4a4cd49c-8957-4aef-8e62-1ab41dfda2ea",
   "metadata": {},
   "outputs": [
    {
     "data": {
      "text/plain": [
       "'t'"
      ]
     },
     "execution_count": 25,
     "metadata": {},
     "output_type": "execute_result"
    }
   ],
   "source": [
    "s[2]"
   ]
  },
  {
   "cell_type": "code",
   "execution_count": 26,
   "id": "e2ac46b3-ee93-4aed-b492-7e448d2653ca",
   "metadata": {},
   "outputs": [],
   "source": [
    "quadrado = [x**2 for x in range(0,11)]"
   ]
  },
  {
   "cell_type": "code",
   "execution_count": 27,
   "id": "1359b2df-bb9d-4962-80ff-7eb41d4be838",
   "metadata": {},
   "outputs": [
    {
     "name": "stdout",
     "output_type": "stream",
     "text": [
      "[0, 1, 4, 9, 16, 25, 36, 49, 64, 81, 100]\n"
     ]
    }
   ],
   "source": [
    "print(quadrado)"
   ]
  },
  {
   "cell_type": "code",
   "execution_count": null,
   "id": "48a6c56a-0340-4885-9d26-271057f63233",
   "metadata": {},
   "outputs": [],
   "source": []
  }
 ],
 "metadata": {
  "kernelspec": {
   "display_name": "Python 3 (ipykernel)",
   "language": "python",
   "name": "python3"
  },
  "language_info": {
   "codemirror_mode": {
    "name": "ipython",
    "version": 3
   },
   "file_extension": ".py",
   "mimetype": "text/x-python",
   "name": "python",
   "nbconvert_exporter": "python",
   "pygments_lexer": "ipython3",
   "version": "3.12.3"
  }
 },
 "nbformat": 4,
 "nbformat_minor": 5
}
